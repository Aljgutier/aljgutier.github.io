{
 "cells": [
  {
   "cell_type": "markdown",
   "metadata": {
    "colab_type": "text",
    "id": "vbmlP8vFRUx4"
   },
   "source": [
    "# Inference Statistics Notebook\n",
    "NY Taxi Cab Trip Duration"
   ]
  },
  {
   "cell_type": "markdown",
   "metadata": {
    "colab_type": "text",
    "id": "MDmlzFo4SejE"
   },
   "source": [
    "# 1. Load the Data"
   ]
  },
  {
   "cell_type": "code",
   "execution_count": 1,
   "metadata": {
    "colab": {
     "base_uri": "https://localhost:8080/",
     "height": 72
    },
    "colab_type": "code",
    "executionInfo": {
     "elapsed": 1239,
     "status": "ok",
     "timestamp": 1600445702857,
     "user": {
      "displayName": "Alberto",
      "photoUrl": "https://lh3.googleusercontent.com/a-/AOh14Gjw56Fg8KPH-1SbCJhna3BcswJF9-lAYZ0xw5KiVVY=s64",
      "userId": "09763386927942680033"
     },
     "user_tz": 420
    },
    "id": "p1m7zpNvRauC",
    "outputId": "1c31b527-28be-4da4-a436-8b413f2d2ee3"
   },
   "outputs": [],
   "source": [
    "import numpy as np\n",
    "import pandas as pd\n",
    "import matplotlib.pyplot as plt\n",
    "import seaborn as sns\n",
    "import scipy.stats as st # some useful stuff\n",
    "from scipy.stats import t"
   ]
  },
  {
   "cell_type": "markdown",
   "metadata": {
    "colab": {
     "base_uri": "https://localhost:8080/",
     "height": 35
    },
    "colab_type": "code",
    "executionInfo": {
     "elapsed": 33702,
     "status": "ok",
     "timestamp": 1600445740132,
     "user": {
      "displayName": "Alberto",
      "photoUrl": "https://lh3.googleusercontent.com/a-/AOh14Gjw56Fg8KPH-1SbCJhna3BcswJF9-lAYZ0xw5KiVVY=s64",
      "userId": "09763386927942680033"
     },
     "user_tz": 420
    },
    "id": "0jRo0AJMTHms",
    "outputId": "e754905b-cf11-485c-8aa1-2f004bf030c3"
   },
   "source": [
    "###  You will need to get the following data and put it into the jupyter directory to run this notebook\n",
    "* NYC Taxi 2016: https://www.kaggle.com/c/nyc-taxi-trip-duration/data\n"
   ]
  },
  {
   "cell_type": "code",
   "execution_count": 3,
   "metadata": {
    "colab": {
     "base_uri": "https://localhost:8080/",
     "height": 35
    },
    "colab_type": "code",
    "executionInfo": {
     "elapsed": 47385,
     "status": "ok",
     "timestamp": 1600445798554,
     "user": {
      "displayName": "Alberto",
      "photoUrl": "https://lh3.googleusercontent.com/a-/AOh14Gjw56Fg8KPH-1SbCJhna3BcswJF9-lAYZ0xw5KiVVY=s64",
      "userId": "09763386927942680033"
     },
     "user_tz": 420
    },
    "id": "jtNUbCeWTTmR",
    "outputId": "2bb093a0-95a1-4906-e3db-b40ec7c53f4c"
   },
   "outputs": [
    {
     "name": "stdout",
     "output_type": "stream",
     "text": [
      "Mounted at /gdrive\n"
     ]
    }
   ],
   "source": [
    "# https://towardsdatascience.com/getting-started-with-google-colab-f2fff97f594c\n",
    "#from google.colab import drive\n",
    "#drive.mount('/gdrive',force_remount=True)"
   ]
  },
  {
   "cell_type": "code",
   "execution_count": 3,
   "metadata": {
    "colab": {
     "base_uri": "https://localhost:8080/",
     "height": 305
    },
    "colab_type": "code",
    "executionInfo": {
     "elapsed": 8346,
     "status": "ok",
     "timestamp": 1600445814883,
     "user": {
      "displayName": "Alberto",
      "photoUrl": "https://lh3.googleusercontent.com/a-/AOh14Gjw56Fg8KPH-1SbCJhna3BcswJF9-lAYZ0xw5KiVVY=s64",
      "userId": "09763386927942680033"
     },
     "user_tz": 420
    },
    "id": "kUqHevG8ThHN",
    "outputId": "30846c7b-c22b-4f69-a1cd-48be2268df71"
   },
   "outputs": [
    {
     "data": {
      "text/html": [
       "<div>\n",
       "<style scoped>\n",
       "    .dataframe tbody tr th:only-of-type {\n",
       "        vertical-align: middle;\n",
       "    }\n",
       "\n",
       "    .dataframe tbody tr th {\n",
       "        vertical-align: top;\n",
       "    }\n",
       "\n",
       "    .dataframe thead th {\n",
       "        text-align: right;\n",
       "    }\n",
       "</style>\n",
       "<table border=\"1\" class=\"dataframe\">\n",
       "  <thead>\n",
       "    <tr style=\"text-align: right;\">\n",
       "      <th></th>\n",
       "      <th>id</th>\n",
       "      <th>vendor_id</th>\n",
       "      <th>pickup_datetime</th>\n",
       "      <th>dropoff_datetime</th>\n",
       "      <th>passenger_count</th>\n",
       "      <th>pickup_longitude</th>\n",
       "      <th>pickup_latitude</th>\n",
       "      <th>dropoff_longitude</th>\n",
       "      <th>dropoff_latitude</th>\n",
       "      <th>store_and_fwd_flag</th>\n",
       "      <th>trip_duration</th>\n",
       "    </tr>\n",
       "  </thead>\n",
       "  <tbody>\n",
       "    <tr>\n",
       "      <th>0</th>\n",
       "      <td>id2875421</td>\n",
       "      <td>2</td>\n",
       "      <td>2016-03-14 17:24:55</td>\n",
       "      <td>2016-03-14 17:32:30</td>\n",
       "      <td>1</td>\n",
       "      <td>-73.982155</td>\n",
       "      <td>40.767937</td>\n",
       "      <td>-73.964630</td>\n",
       "      <td>40.765602</td>\n",
       "      <td>N</td>\n",
       "      <td>455</td>\n",
       "    </tr>\n",
       "    <tr>\n",
       "      <th>1</th>\n",
       "      <td>id2377394</td>\n",
       "      <td>1</td>\n",
       "      <td>2016-06-12 00:43:35</td>\n",
       "      <td>2016-06-12 00:54:38</td>\n",
       "      <td>1</td>\n",
       "      <td>-73.980415</td>\n",
       "      <td>40.738564</td>\n",
       "      <td>-73.999481</td>\n",
       "      <td>40.731152</td>\n",
       "      <td>N</td>\n",
       "      <td>663</td>\n",
       "    </tr>\n",
       "    <tr>\n",
       "      <th>2</th>\n",
       "      <td>id3858529</td>\n",
       "      <td>2</td>\n",
       "      <td>2016-01-19 11:35:24</td>\n",
       "      <td>2016-01-19 12:10:48</td>\n",
       "      <td>1</td>\n",
       "      <td>-73.979027</td>\n",
       "      <td>40.763939</td>\n",
       "      <td>-74.005333</td>\n",
       "      <td>40.710087</td>\n",
       "      <td>N</td>\n",
       "      <td>2124</td>\n",
       "    </tr>\n",
       "    <tr>\n",
       "      <th>3</th>\n",
       "      <td>id3504673</td>\n",
       "      <td>2</td>\n",
       "      <td>2016-04-06 19:32:31</td>\n",
       "      <td>2016-04-06 19:39:40</td>\n",
       "      <td>1</td>\n",
       "      <td>-74.010040</td>\n",
       "      <td>40.719971</td>\n",
       "      <td>-74.012268</td>\n",
       "      <td>40.706718</td>\n",
       "      <td>N</td>\n",
       "      <td>429</td>\n",
       "    </tr>\n",
       "    <tr>\n",
       "      <th>4</th>\n",
       "      <td>id2181028</td>\n",
       "      <td>2</td>\n",
       "      <td>2016-03-26 13:30:55</td>\n",
       "      <td>2016-03-26 13:38:10</td>\n",
       "      <td>1</td>\n",
       "      <td>-73.973053</td>\n",
       "      <td>40.793209</td>\n",
       "      <td>-73.972923</td>\n",
       "      <td>40.782520</td>\n",
       "      <td>N</td>\n",
       "      <td>435</td>\n",
       "    </tr>\n",
       "  </tbody>\n",
       "</table>\n",
       "</div>"
      ],
      "text/plain": [
       "          id  vendor_id      pickup_datetime     dropoff_datetime  \\\n",
       "0  id2875421          2  2016-03-14 17:24:55  2016-03-14 17:32:30   \n",
       "1  id2377394          1  2016-06-12 00:43:35  2016-06-12 00:54:38   \n",
       "2  id3858529          2  2016-01-19 11:35:24  2016-01-19 12:10:48   \n",
       "3  id3504673          2  2016-04-06 19:32:31  2016-04-06 19:39:40   \n",
       "4  id2181028          2  2016-03-26 13:30:55  2016-03-26 13:38:10   \n",
       "\n",
       "   passenger_count  pickup_longitude  pickup_latitude  dropoff_longitude  \\\n",
       "0                1        -73.982155        40.767937         -73.964630   \n",
       "1                1        -73.980415        40.738564         -73.999481   \n",
       "2                1        -73.979027        40.763939         -74.005333   \n",
       "3                1        -74.010040        40.719971         -74.012268   \n",
       "4                1        -73.973053        40.793209         -73.972923   \n",
       "\n",
       "   dropoff_latitude store_and_fwd_flag  trip_duration  \n",
       "0         40.765602                  N            455  \n",
       "1         40.731152                  N            663  \n",
       "2         40.710087                  N           2124  \n",
       "3         40.706718                  N            429  \n",
       "4         40.782520                  N            435  "
      ]
     },
     "execution_count": 3,
     "metadata": {},
     "output_type": "execute_result"
    }
   ],
   "source": [
    "\n",
    "df = pd.read_csv('./nyc_taxi_train_2016.csv')\n",
    "df.head()"
   ]
  },
  {
   "cell_type": "code",
   "execution_count": 4,
   "metadata": {
    "colab": {
     "base_uri": "https://localhost:8080/",
     "height": 308
    },
    "colab_type": "code",
    "executionInfo": {
     "elapsed": 1286,
     "status": "ok",
     "timestamp": 1600445819468,
     "user": {
      "displayName": "Alberto",
      "photoUrl": "https://lh3.googleusercontent.com/a-/AOh14Gjw56Fg8KPH-1SbCJhna3BcswJF9-lAYZ0xw5KiVVY=s64",
      "userId": "09763386927942680033"
     },
     "user_tz": 420
    },
    "id": "UNgrhNg_V-AI",
    "outputId": "e8086031-7a58-4c1a-b597-b6ee17d65c7b"
   },
   "outputs": [
    {
     "data": {
      "text/html": [
       "<div>\n",
       "<style scoped>\n",
       "    .dataframe tbody tr th:only-of-type {\n",
       "        vertical-align: middle;\n",
       "    }\n",
       "\n",
       "    .dataframe tbody tr th {\n",
       "        vertical-align: top;\n",
       "    }\n",
       "\n",
       "    .dataframe thead th {\n",
       "        text-align: right;\n",
       "    }\n",
       "</style>\n",
       "<table border=\"1\" class=\"dataframe\">\n",
       "  <thead>\n",
       "    <tr style=\"text-align: right;\">\n",
       "      <th></th>\n",
       "      <th>vendor_id</th>\n",
       "      <th>passenger_count</th>\n",
       "      <th>pickup_longitude</th>\n",
       "      <th>pickup_latitude</th>\n",
       "      <th>dropoff_longitude</th>\n",
       "      <th>dropoff_latitude</th>\n",
       "      <th>trip_duration</th>\n",
       "    </tr>\n",
       "  </thead>\n",
       "  <tbody>\n",
       "    <tr>\n",
       "      <th>count</th>\n",
       "      <td>1.458644e+06</td>\n",
       "      <td>1.458644e+06</td>\n",
       "      <td>1.458644e+06</td>\n",
       "      <td>1.458644e+06</td>\n",
       "      <td>1.458644e+06</td>\n",
       "      <td>1.458644e+06</td>\n",
       "      <td>1.458644e+06</td>\n",
       "    </tr>\n",
       "    <tr>\n",
       "      <th>mean</th>\n",
       "      <td>1.534950e+00</td>\n",
       "      <td>1.664530e+00</td>\n",
       "      <td>-7.397349e+01</td>\n",
       "      <td>4.075092e+01</td>\n",
       "      <td>-7.397342e+01</td>\n",
       "      <td>4.075180e+01</td>\n",
       "      <td>9.594923e+02</td>\n",
       "    </tr>\n",
       "    <tr>\n",
       "      <th>std</th>\n",
       "      <td>4.987772e-01</td>\n",
       "      <td>1.314242e+00</td>\n",
       "      <td>7.090186e-02</td>\n",
       "      <td>3.288119e-02</td>\n",
       "      <td>7.064327e-02</td>\n",
       "      <td>3.589056e-02</td>\n",
       "      <td>5.237432e+03</td>\n",
       "    </tr>\n",
       "    <tr>\n",
       "      <th>min</th>\n",
       "      <td>1.000000e+00</td>\n",
       "      <td>0.000000e+00</td>\n",
       "      <td>-1.219333e+02</td>\n",
       "      <td>3.435970e+01</td>\n",
       "      <td>-1.219333e+02</td>\n",
       "      <td>3.218114e+01</td>\n",
       "      <td>1.000000e+00</td>\n",
       "    </tr>\n",
       "    <tr>\n",
       "      <th>25%</th>\n",
       "      <td>1.000000e+00</td>\n",
       "      <td>1.000000e+00</td>\n",
       "      <td>-7.399187e+01</td>\n",
       "      <td>4.073735e+01</td>\n",
       "      <td>-7.399133e+01</td>\n",
       "      <td>4.073588e+01</td>\n",
       "      <td>3.970000e+02</td>\n",
       "    </tr>\n",
       "    <tr>\n",
       "      <th>50%</th>\n",
       "      <td>2.000000e+00</td>\n",
       "      <td>1.000000e+00</td>\n",
       "      <td>-7.398174e+01</td>\n",
       "      <td>4.075410e+01</td>\n",
       "      <td>-7.397975e+01</td>\n",
       "      <td>4.075452e+01</td>\n",
       "      <td>6.620000e+02</td>\n",
       "    </tr>\n",
       "    <tr>\n",
       "      <th>75%</th>\n",
       "      <td>2.000000e+00</td>\n",
       "      <td>2.000000e+00</td>\n",
       "      <td>-7.396733e+01</td>\n",
       "      <td>4.076836e+01</td>\n",
       "      <td>-7.396301e+01</td>\n",
       "      <td>4.076981e+01</td>\n",
       "      <td>1.075000e+03</td>\n",
       "    </tr>\n",
       "    <tr>\n",
       "      <th>max</th>\n",
       "      <td>2.000000e+00</td>\n",
       "      <td>9.000000e+00</td>\n",
       "      <td>-6.133553e+01</td>\n",
       "      <td>5.188108e+01</td>\n",
       "      <td>-6.133553e+01</td>\n",
       "      <td>4.392103e+01</td>\n",
       "      <td>3.526282e+06</td>\n",
       "    </tr>\n",
       "  </tbody>\n",
       "</table>\n",
       "</div>"
      ],
      "text/plain": [
       "          vendor_id  passenger_count  pickup_longitude  pickup_latitude  \\\n",
       "count  1.458644e+06     1.458644e+06      1.458644e+06     1.458644e+06   \n",
       "mean   1.534950e+00     1.664530e+00     -7.397349e+01     4.075092e+01   \n",
       "std    4.987772e-01     1.314242e+00      7.090186e-02     3.288119e-02   \n",
       "min    1.000000e+00     0.000000e+00     -1.219333e+02     3.435970e+01   \n",
       "25%    1.000000e+00     1.000000e+00     -7.399187e+01     4.073735e+01   \n",
       "50%    2.000000e+00     1.000000e+00     -7.398174e+01     4.075410e+01   \n",
       "75%    2.000000e+00     2.000000e+00     -7.396733e+01     4.076836e+01   \n",
       "max    2.000000e+00     9.000000e+00     -6.133553e+01     5.188108e+01   \n",
       "\n",
       "       dropoff_longitude  dropoff_latitude  trip_duration  \n",
       "count       1.458644e+06      1.458644e+06   1.458644e+06  \n",
       "mean       -7.397342e+01      4.075180e+01   9.594923e+02  \n",
       "std         7.064327e-02      3.589056e-02   5.237432e+03  \n",
       "min        -1.219333e+02      3.218114e+01   1.000000e+00  \n",
       "25%        -7.399133e+01      4.073588e+01   3.970000e+02  \n",
       "50%        -7.397975e+01      4.075452e+01   6.620000e+02  \n",
       "75%        -7.396301e+01      4.076981e+01   1.075000e+03  \n",
       "max        -6.133553e+01      4.392103e+01   3.526282e+06  "
      ]
     },
     "execution_count": 4,
     "metadata": {},
     "output_type": "execute_result"
    }
   ],
   "source": [
    "df.describe()"
   ]
  },
  {
   "cell_type": "code",
   "execution_count": 5,
   "metadata": {
    "colab": {
     "base_uri": "https://localhost:8080/",
     "height": 52
    },
    "colab_type": "code",
    "executionInfo": {
     "elapsed": 1302,
     "status": "ok",
     "timestamp": 1600445827040,
     "user": {
      "displayName": "Alberto",
      "photoUrl": "https://lh3.googleusercontent.com/a-/AOh14Gjw56Fg8KPH-1SbCJhna3BcswJF9-lAYZ0xw5KiVVY=s64",
      "userId": "09763386927942680033"
     },
     "user_tz": 420
    },
    "id": "POk8jSBGWaGZ",
    "outputId": "89b30338-f31d-409f-cfb0-565595d49c75"
   },
   "outputs": [
    {
     "name": "stdout",
     "output_type": "stream",
     "text": [
      "Caution: you dont always know the population μ and σ\n",
      "mu_p:  40.750920908391734 , sigma_p: 0.032881174986482624\n"
     ]
    }
   ],
   "source": [
    "# \n",
    "population = df['pickup_latitude']\n",
    "mu_p = population.mean()\n",
    "sigma_p = population.std(ddof=0)\n",
    "print('Caution: you dont always know the population μ and σ')\n",
    "print(\"mu_p: \", mu_p, \", sigma_p:\", sigma_p)\n"
   ]
  },
  {
   "cell_type": "markdown",
   "metadata": {
    "colab_type": "text",
    "id": "iWmb7UZ8WJMv"
   },
   "source": [
    "### Population Statistics\n",
    "\n",
    "* population mean, μ = 40.75\n",
    "* population σ = 0.0329"
   ]
  },
  {
   "cell_type": "markdown",
   "metadata": {
    "colab_type": "text",
    "id": "k2BHX01qXirH"
   },
   "source": [
    "### Assumptions\n",
    "\n",
    "Assume the scores the population samples (latitudes) are normally distributed data."
   ]
  },
  {
   "cell_type": "markdown",
   "metadata": {
    "colab_type": "text",
    "id": "rhn_aB8Imou2"
   },
   "source": [
    "# 2. t-Statistic Confidence Interval"
   ]
  },
  {
   "cell_type": "markdown",
   "metadata": {
    "colab_type": "text",
    "id": "CfyME_xvs_mb"
   },
   "source": [
    "You receive a sample of N=2 latitudes from the population. What is the confidence interval of the sample mean."
   ]
  },
  {
   "cell_type": "code",
   "execution_count": 6,
   "metadata": {
    "colab": {
     "base_uri": "https://localhost:8080/",
     "height": 225
    },
    "colab_type": "code",
    "executionInfo": {
     "elapsed": 820,
     "status": "ok",
     "timestamp": 1600445837716,
     "user": {
      "displayName": "Alberto",
      "photoUrl": "https://lh3.googleusercontent.com/a-/AOh14Gjw56Fg8KPH-1SbCJhna3BcswJF9-lAYZ0xw5KiVVY=s64",
      "userId": "09763386927942680033"
     },
     "user_tz": 420
    },
    "id": "MteExc6XCqgH",
    "outputId": "7d609e64-a36a-430c-8541-b5b34865e1f1"
   },
   "outputs": [
    {
     "name": "stdout",
     "output_type": "stream",
     "text": [
      "766324     40.755150\n",
      "417696     40.768528\n",
      "152237     40.800297\n",
      "235439     40.754917\n",
      "316480     40.719379\n",
      "             ...    \n",
      "1418208    40.760918\n",
      "848289     40.752968\n",
      "674462     40.740898\n",
      "561968     40.766834\n",
      "94847      40.768669\n",
      "Name: pickup_latitude, Length: 100, dtype: float64\n"
     ]
    }
   ],
   "source": [
    "n = 100\n",
    "alpha = 0.05 # 95% confidence\n",
    "x_sample = df['pickup_latitude'].sample(n = n)\n",
    "print(x_sample)"
   ]
  },
  {
   "cell_type": "code",
   "execution_count": 7,
   "metadata": {
    "colab": {
     "base_uri": "https://localhost:8080/",
     "height": 829
    },
    "colab_type": "code",
    "executionInfo": {
     "elapsed": 869,
     "status": "ok",
     "timestamp": 1600445841003,
     "user": {
      "displayName": "Alberto",
      "photoUrl": "https://lh3.googleusercontent.com/a-/AOh14Gjw56Fg8KPH-1SbCJhna3BcswJF9-lAYZ0xw5KiVVY=s64",
      "userId": "09763386927942680033"
     },
     "user_tz": 420
    },
    "id": "FpehW40Bs1Nk",
    "outputId": "4334cb5c-522a-424a-dd5c-b2c8366f1f34"
   },
   "outputs": [
    {
     "name": "stdout",
     "output_type": "stream",
     "text": [
      "Population Statistics\n",
      "mu_p = 40.750921 , sigma_p = 0.032881\n",
      "x_sample = [40.75514984 40.76852798 40.80029678 40.75491714 40.71937943 40.74504089\n",
      " 40.73035049 40.74847794 40.70961761 40.76991653 40.76084137 40.75196075\n",
      " 40.77970505 40.77485657 40.78976059 40.76418304 40.74412537 40.78069305\n",
      " 40.72893143 40.70505524 40.73348618 40.75665665 40.72219849 40.74279785\n",
      " 40.74172592 40.76224899 40.76580048 40.77803802 40.75478745 40.76787949\n",
      " 40.73800659 40.73704147 40.75043869 40.72333145 40.76478958 40.76203918\n",
      " 40.76558304 40.73724747 40.7491684  40.73079681 40.78291321 40.77909088\n",
      " 40.75118256 40.74429321 40.7231369  40.75940323 40.74858856 40.76259232\n",
      " 40.75533295 40.77376175 40.75831223 40.73825073 40.75307083 40.73846817\n",
      " 40.77176666 40.77986526 40.73563766 40.75962448 40.77408218 40.75827408\n",
      " 40.73691559 40.71906662 40.79418182 40.76358032 40.74404144 40.73271561\n",
      " 40.77477264 40.76057816 40.77132797 40.74790955 40.71688843 40.75233078\n",
      " 40.74520874 40.75095367 40.64689636 40.73652267 40.7526207  40.75649261\n",
      " 40.77084732 40.74491882 40.72538757 40.77440262 40.73807907 40.77917099\n",
      " 40.76276398 40.75114059 40.77961349 40.75643539 40.75008011 40.69015884\n",
      " 40.75091171 40.7521019  40.78413773 40.76688385 40.73694992 40.76091766\n",
      " 40.75296783 40.74089813 40.76683426 40.76866913]\n",
      "\n",
      "Sample Statistics\n",
      "x_sample = [40.75514984 40.76852798 40.80029678 40.75491714 40.71937943 40.74504089\n",
      " 40.73035049 40.74847794 40.70961761 40.76991653 40.76084137 40.75196075\n",
      " 40.77970505 40.77485657 40.78976059 40.76418304 40.74412537 40.78069305\n",
      " 40.72893143 40.70505524 40.73348618 40.75665665 40.72219849 40.74279785\n",
      " 40.74172592 40.76224899 40.76580048 40.77803802 40.75478745 40.76787949\n",
      " 40.73800659 40.73704147 40.75043869 40.72333145 40.76478958 40.76203918\n",
      " 40.76558304 40.73724747 40.7491684  40.73079681 40.78291321 40.77909088\n",
      " 40.75118256 40.74429321 40.7231369  40.75940323 40.74858856 40.76259232\n",
      " 40.75533295 40.77376175 40.75831223 40.73825073 40.75307083 40.73846817\n",
      " 40.77176666 40.77986526 40.73563766 40.75962448 40.77408218 40.75827408\n",
      " 40.73691559 40.71906662 40.79418182 40.76358032 40.74404144 40.73271561\n",
      " 40.77477264 40.76057816 40.77132797 40.74790955 40.71688843 40.75233078\n",
      " 40.74520874 40.75095367 40.64689636 40.73652267 40.7526207  40.75649261\n",
      " 40.77084732 40.74491882 40.72538757 40.77440262 40.73807907 40.77917099\n",
      " 40.76276398 40.75114059 40.77961349 40.75643539 40.75008011 40.69015884\n",
      " 40.75091171 40.7521019  40.78413773 40.76688385 40.73694992 40.76091766\n",
      " 40.75296783 40.74089813 40.76683426 40.76866913]\n",
      "n =  100\n",
      "df = 99\n",
      "x_bar = 40.7522\n",
      "x_s = 0.0225, s =0.0225\n",
      "t_critical = 1.6604\n",
      "t_statistic = 0.5708\n",
      "SE = 0.0023\n",
      "p_value = 0.5694\n",
      "The 95.000 % confidence interval = (40.7485 , 40.7560)\n"
     ]
    }
   ],
   "source": [
    "\n",
    "mu=mu_p\n",
    "x_bar=x_sample.mean()\n",
    "x_s = x_sample.std()           # sample standard deviation ... note, the sample mean (df = n-1) is different than population mean\n",
    "s=np.std(x_sample,ddof=1)      # sample standard deviation with numpy (ddof = 1, otherwise defaults to ddof = 0 the population mean)\n",
    "n = len(x_sample)\n",
    "SE = s / np.sqrt(n) \n",
    "ddof = n - 1\n",
    "t_critical = t.ppf(1-alpha, df = ddof )\n",
    "t_statistic = (x_bar - mu)/SE\n",
    "p_value=2*t.sf(t_statistic, ddof)\n",
    "c_top = x_bar + t_critical * SE\n",
    "c_bottom = x_bar - t_critical *SE\n",
    "p_confidence = (1 - alpha)*100\n",
    "\n",
    "print('Population Statistics')\n",
    "print('mu_p = %f , sigma_p = %f' %(mu_p, sigma_p))\n",
    "print('x_sample =', x_sample.values)\n",
    "print('\\nSample Statistics')\n",
    "print('x_sample =', x_sample.values)\n",
    "print('n = ', n)\n",
    "print('df =', ddof)\n",
    "print('x_bar = %1.4f' %x_bar)\n",
    "print('x_s = %1.4f, s =%1.4f' %(x_s, s))\n",
    "print('t_critical = %1.4f' %t_critical)\n",
    "print('t_statistic = %1.4f' %t_statistic)\n",
    "print('SE = %1.4f' %SE)\n",
    "print('p_value = %1.4f' %p_value)  # one-tail p-value\n",
    "\n",
    "print('The %1.3f %c confidence interval = (%1.4f , %1.4f)' %( p_confidence, '%',c_bottom, c_top) )\n",
    "\n",
    "# confidence at n = 2 very small is a bit bogus the 95% confidence can possibly totally not include the actual mean because got unlucky\n",
    "# try n = 10 and you see much better results"
   ]
  },
  {
   "cell_type": "markdown",
   "metadata": {
    "colab_type": "text",
    "id": "ogC12wg-XFXr"
   },
   "source": [
    "# 3. z-Test Hypothesis Test"
   ]
  },
  {
   "cell_type": "markdown",
   "metadata": {
    "colab_type": "text",
    "id": "HqyyPlsyVVrY"
   },
   "source": [
    "You receive a sample of N=10 latitudes from the population and you are trying to assess if the sample is representative. Is the sample mean representative of the NY Taxi population pickup_latitude true mean within a 95% confidence (α = 0.05) or does it differ from the population mean? You have prior knowledge that the popuulation has a standar deviation of σ = 0.032881174986483304\n",
    "\n",
    "To test this question we will use what is refered to as a one-sample z-test. First we state the null hypothesis and alternative hypothesis like this;\n",
    "\n",
    "* H0: The sample is from the NY Taxi population, x_bar = μ.  \n",
    "* HA: The sample is not from the NY Taxi population, x_bar != (not equal) μ.\n",
    "\n",
    "Notice that this is a two tail test. If the the z_statistic falls inside of the +/- z_critical then the sample mean is representative of the population mean. Otherwise, if the z_statistic falls within a tail it is unlikely to come from a representative sample. \n",
    "\n",
    "Equivalently, we can state the condition in terms of p-value. If the p-value ≥ α then accept the null hypothosis that the sample mean is representative of the population mean. There is not sufficient evidence that the sample is non-representative. Alternatively, if the p-value < α then there is sufficient evidence that the population is non-representative. \n"
   ]
  },
  {
   "cell_type": "code",
   "execution_count": 8,
   "metadata": {
    "colab": {
     "base_uri": "https://localhost:8080/",
     "height": 207
    },
    "colab_type": "code",
    "executionInfo": {
     "elapsed": 1079,
     "status": "ok",
     "timestamp": 1600445844068,
     "user": {
      "displayName": "Alberto",
      "photoUrl": "https://lh3.googleusercontent.com/a-/AOh14Gjw56Fg8KPH-1SbCJhna3BcswJF9-lAYZ0xw5KiVVY=s64",
      "userId": "09763386927942680033"
     },
     "user_tz": 420
    },
    "id": "Jtyw1vFMGSJq",
    "outputId": "11eb6eea-7de0-420d-854d-e79ec7d2769f"
   },
   "outputs": [
    {
     "name": "stdout",
     "output_type": "stream",
     "text": [
      "646333     39.441147\n",
      "275644     34.712234\n",
      "1427116    38.946033\n",
      "1416336    39.923027\n",
      "952661     36.029301\n",
      "1387351    39.457882\n",
      "193116     37.777771\n",
      "233451     38.898849\n",
      "521870     42.458942\n",
      "801241     38.898849\n",
      "Name: pickup_latitude, dtype: float64\n"
     ]
    }
   ],
   "source": [
    "# Sample the population ... insert an arbitrary bias\n",
    "n=10\n",
    "# use one of the two samples below for illustration\n",
    "  # let's take out the center of the population from the sample ... spreads out tails \n",
    "x_sample = df[(df['pickup_latitude'] < 40 ) | (df['pickup_latitude'] > 42 ) ]['pickup_latitude'].sample(n = n)\n",
    "#x_sample = df['pickup_latitude'].sample(n = n)\n",
    "print(x_sample)"
   ]
  },
  {
   "cell_type": "code",
   "execution_count": 9,
   "metadata": {
    "colab": {
     "base_uri": "https://localhost:8080/",
     "height": 279
    },
    "colab_type": "code",
    "executionInfo": {
     "elapsed": 1076,
     "status": "ok",
     "timestamp": 1600445844069,
     "user": {
      "displayName": "Alberto",
      "photoUrl": "https://lh3.googleusercontent.com/a-/AOh14Gjw56Fg8KPH-1SbCJhna3BcswJF9-lAYZ0xw5KiVVY=s64",
      "userId": "09763386927942680033"
     },
     "user_tz": 420
    },
    "id": "u_GY6i9CT-zQ",
    "outputId": "7d19d72f-8bc6-41df-a156-a2de138486eb"
   },
   "outputs": [
    {
     "name": "stdout",
     "output_type": "stream",
     "text": [
      "Population Statistics\n",
      "mu = 40.750921 , sigma = 0.032881\n",
      "x_sample = [39.44114685 34.7122345  38.94603348 39.92302704 36.02930069 39.45788193\n",
      " 37.777771   38.89884949 42.45894241 38.89884949]\n",
      "\n",
      "Sample Statistics\n",
      "n = 10\n",
      "x_bar = 38.6544\n",
      "(- z_critical  z_critical)= (-1.6449 , 1.6449)\n",
      "z_statistic = -201.6281\n",
      "p_value = 0.0000\n",
      "\n",
      "Conclusion\n",
      "Because p < α, we reject the null hypothesis. There is sufficient evidence to conclude that the sample mean is not representative of the population.\n"
     ]
    }
   ],
   "source": [
    "# compute the z-test\n",
    "#  note, we know the population sigma from above\n",
    "\n",
    "x_bar=x_sample.mean()\n",
    "n = len(x_sample)\n",
    "alpha=0.05\n",
    "z_critical = st.norm.ppf(1-alpha)\n",
    "SE = sigma_p/np.sqrt(n)\n",
    "z_statistic = (x_bar - mu)/SE\n",
    "p_value = 2*st.norm.sf(abs(z_statistic))\n",
    "\n",
    "\n",
    "print('Population Statistics')\n",
    "print('mu = %f , sigma = %f' %(mu_p, sigma_p))\n",
    "print('x_sample =', x_sample.values)\n",
    "print('\\nSample Statistics')\n",
    "print('n =',n)\n",
    "print('x_bar = %1.4f' %x_bar)\n",
    "print('(- z_critical  z_critical)= (%1.4f , %1.4f)' %(-z_critical,z_critical))\n",
    "print('z_statistic = %1.4f' %(z_statistic))\n",
    "print('p_value = %1.4f' %(p_value))\n",
    "\n",
    "print('\\nConclusion')\n",
    "if ( p_value > alpha ):\n",
    "  print('Because p-value ≥ α, we fail to reject the null hypothesis. There is not sufficient evidence to conclude that the sample mean differs from the population.')\n",
    "else:\n",
    "  print('Because p < α, we reject the null hypothesis. There is sufficient evidence to conclude that the sample mean is not representative of the population.')\n",
    "\n"
   ]
  },
  {
   "cell_type": "markdown",
   "metadata": {
    "colab_type": "text",
    "id": "6RRQMokFqy12"
   },
   "source": [
    "# 4. t-test Hypothesis Test"
   ]
  },
  {
   "cell_type": "markdown",
   "metadata": {
    "colab_type": "text",
    "id": "FGEqAg_vAtmc"
   },
   "source": [
    "You receive a sample of N=10 latitudes. You suspect that the population mean latitude is greater than 40.74, but you need to prove your assertion. Ensure that your conclusion is stated with a 95% confidence (α = 0.05). You do not know the population standard deviation.\n",
    "\n",
    "To test this question we will use what is refered to as a one-sample t-test. First we state the null hypothesis and alternative hypothesis like this;\n",
    "\n",
    "* H0: μ ≤ 40.74   null, contrary to assertion\n",
    "* HA: μ > 40.74   the assertion\n",
    "\n",
    "Notice that this is a one-tail test. If the the t_statistic falls inside outside +/- t_critical then the you fail to reject the null hypothesis.  if the t_statistic falls to the rigth of t_critical then you reject the null hypothesis.\n",
    "\n",
    "Equivalently, we can state the condition in terms of p-value. If the p-value ≥ α then accept the null hypothosis. Alternatively, if the p-value < α then reject the null hypothesis, since there is sufficient evidence to prove the alternative. "
   ]
  },
  {
   "cell_type": "code",
   "execution_count": 10,
   "metadata": {
    "colab": {
     "base_uri": "https://localhost:8080/",
     "height": 207
    },
    "colab_type": "code",
    "executionInfo": {
     "elapsed": 774,
     "status": "ok",
     "timestamp": 1600445863049,
     "user": {
      "displayName": "Alberto",
      "photoUrl": "https://lh3.googleusercontent.com/a-/AOh14Gjw56Fg8KPH-1SbCJhna3BcswJF9-lAYZ0xw5KiVVY=s64",
      "userId": "09763386927942680033"
     },
     "user_tz": 420
    },
    "id": "JEtYU24Y_ZAn",
    "outputId": "ebccb356-447e-4ce2-ee94-ede09df441e2"
   },
   "outputs": [
    {
     "name": "stdout",
     "output_type": "stream",
     "text": [
      "604208     40.748791\n",
      "172140     40.716843\n",
      "601687     40.774261\n",
      "1327751    40.729778\n",
      "1162820    40.787754\n",
      "863817     40.780315\n",
      "1095638    40.783508\n",
      "541392     40.766041\n",
      "479641     40.720001\n",
      "1049049    40.722534\n",
      "Name: pickup_latitude, dtype: float64\n"
     ]
    }
   ],
   "source": [
    "# Try different values of n to see how it affects the results\n",
    "n=10\n",
    "x_sample = df['pickup_latitude'].sample(n = n)\n",
    "print(x_sample)"
   ]
  },
  {
   "cell_type": "code",
   "execution_count": 11,
   "metadata": {
    "colab": {
     "base_uri": "https://localhost:8080/",
     "height": 484
    },
    "colab_type": "code",
    "executionInfo": {
     "elapsed": 968,
     "status": "ok",
     "timestamp": 1600445866697,
     "user": {
      "displayName": "Alberto",
      "photoUrl": "https://lh3.googleusercontent.com/a-/AOh14Gjw56Fg8KPH-1SbCJhna3BcswJF9-lAYZ0xw5KiVVY=s64",
      "userId": "09763386927942680033"
     },
     "user_tz": 420
    },
    "id": "0yZnQiWjDCca",
    "outputId": "2ea069a0-be29-42ad-d039-129bb4d5f926"
   },
   "outputs": [
    {
     "name": "stdout",
     "output_type": "stream",
     "text": [
      "population statistics\n",
      "mu_p = 40.750921 , sigma_p =0.032881\n",
      "\n",
      "assertion\n",
      "mu = 40.740000\n",
      "\n",
      "sample statistics\n",
      "x_sample = 604208     40.748791\n",
      "172140     40.716843\n",
      "601687     40.774261\n",
      "1327751    40.729778\n",
      "1162820    40.787754\n",
      "863817     40.780315\n",
      "1095638    40.783508\n",
      "541392     40.766041\n",
      "479641     40.720001\n",
      "1049049    40.722534\n",
      "Name: pickup_latitude, dtype: float64\n",
      "n =  10\n",
      "df = 9\n",
      "x_bar = 40.7530\n",
      "s = 0.0287\n",
      "t_critical = 1.8331\n",
      "t_statistic = 1.4329\n",
      "SE = 0.0091\n",
      "p_value = 0.0928\n",
      "The 95.000 % confidence interval = (40.7364 , 40.7696)\n"
     ]
    }
   ],
   "source": [
    "mu=40.74\n",
    "x_bar=x_sample.mean()\n",
    "s=np.std(x_sample,ddof=1) # sample standard deviation  with numpy (ddof = 1, otherwise defaults to ddof = 0 the population mean)\n",
    "n = len(x_sample)\n",
    "SE = s/ np.sqrt(n) \n",
    "ddof = n - 1\n",
    "\n",
    "t_critical = t.ppf(1-alpha, df = ddof )\n",
    "t_statistic = (x_bar - mu)/SE\n",
    "p_value=t.sf(t_statistic, ddof)\n",
    "c_top = x_bar + t_critical * SE\n",
    "c_bottom = x_bar - t_critical * SE\n",
    "p_confidence = (1 - alpha)*100\n",
    "\n",
    "print('population statistics')\n",
    "print('mu_p = %f , sigma_p =%f' %(mu_p, sigma_p))\n",
    "\n",
    "print('\\nassertion')\n",
    "print('mu = %f' %mu)\n",
    "print('\\nsample statistics')\n",
    "print('x_sample =', x_sample)\n",
    "print('n = ', n)\n",
    "print('df =', ddof)\n",
    "print('x_bar = %1.4f' %x_bar)\n",
    "print('s = %1.4f' %s)\n",
    "print('t_critical = %1.4f' %t_critical)\n",
    "print('t_statistic = %1.4f' %t_statistic)\n",
    "print('SE = %1.4f' %SE)\n",
    "print('p_value = %1.4f' %p_value)  # one-tail p-value\n",
    "\n",
    "print('The %1.3f %c confidence interval = (%1.4f , %1.4f)' %( p_confidence, '%',c_bottom, c_top) )\n"
   ]
  },
  {
   "cell_type": "markdown",
   "metadata": {
    "colab_type": "text",
    "id": "9ZvvOUOLbxw_"
   },
   "source": [
    "# 5. t-Test Two Sample Hypothesis Test"
   ]
  },
  {
   "cell_type": "markdown",
   "metadata": {
    "colab_type": "text",
    "id": "Lvzk6k0bwpHs"
   },
   "source": [
    "We recall from the EDA exercise, vendor 2 takes long trip durations in addition to short trip durations. Vendor 1 only seems have short trip durations. An experiment is conducted to statistically substantiate that vendor 2 has a higher mean trip duration at least 250 seconds bigger than vendor 1. \n",
    "\n",
    "Two randomly chosen groups are sampled from the population. Use a significance level of α < 0.05 (95% confidence) to substantiate your conclusion.\n",
    "\n",
    "Let μ1 represent the population mean for the vendor_id  = 1\n",
    "Let μ2 represent the population mean for vendor_id = 2\n",
    "\n",
    "We define the hypothesis as follows\n",
    "\n",
    "* null hypothesis: H0: (μ2 - μ 1) - 250 = 0\n",
    "* alternative hypothesis: Ha : μ2 - μ1 - 250 != 0\n",
    "\n",
    "This is a two-sample (independent, \"unpaired\"), 2-sided t-test\n",
    "\n",
    "The null hypothesis states that the expected difference is 250, while the asertion claims that the difference in the population mean is different than 250.\n"
   ]
  },
  {
   "cell_type": "code",
   "execution_count": 12,
   "metadata": {
    "colab": {
     "base_uri": "https://localhost:8080/",
     "height": 0
    },
    "colab_type": "code",
    "executionInfo": {
     "elapsed": 988,
     "status": "ok",
     "timestamp": 1600445870079,
     "user": {
      "displayName": "Alberto",
      "photoUrl": "https://lh3.googleusercontent.com/a-/AOh14Gjw56Fg8KPH-1SbCJhna3BcswJF9-lAYZ0xw5KiVVY=s64",
      "userId": "09763386927942680033"
     },
     "user_tz": 420
    },
    "id": "TBnQ-Xl84p5Q",
    "outputId": "6d13199d-a75a-47f7-91ce-50fdd3817a18"
   },
   "outputs": [
    {
     "name": "stdout",
     "output_type": "stream",
     "text": [
      "mu1 = 845.4382\n",
      "mu2 = 1058.6432\n",
      "delta_mu = 213.2049\n"
     ]
    }
   ],
   "source": [
    "# try changing the number of samples to see how it affects the results below\n",
    "n1=1000\n",
    "n2=1500\n",
    "\n",
    "x_sample1 = df[(df['vendor_id'] == 1 )]['trip_duration'].sample(n = n1) \n",
    "x_sample2 = df[(df['vendor_id'] == 2 )]['trip_duration'].sample(n = n2) \n",
    "\n",
    "mu1 = df[(df['vendor_id'] == 1 )]['trip_duration'].mean()\n",
    "mu2 = df[(df['vendor_id'] == 2 )]['trip_duration'].mean()\n",
    "delta_mu = mu2 - mu1\n",
    "\n",
    "print('mu1 = %1.4f' %mu1)\n",
    "print('mu2 = %1.4f' %mu2)\n",
    "print('delta_mu = %1.4f' %delta_mu)\n"
   ]
  },
  {
   "cell_type": "code",
   "execution_count": 13,
   "metadata": {
    "colab": {
     "base_uri": "https://localhost:8080/",
     "height": 0
    },
    "colab_type": "code",
    "executionInfo": {
     "elapsed": 985,
     "status": "ok",
     "timestamp": 1600445870080,
     "user": {
      "displayName": "Alberto",
      "photoUrl": "https://lh3.googleusercontent.com/a-/AOh14Gjw56Fg8KPH-1SbCJhna3BcswJF9-lAYZ0xw5KiVVY=s64",
      "userId": "09763386927942680033"
     },
     "user_tz": 420
    },
    "id": "utrLpVq6b2nM",
    "outputId": "502397bc-a14e-4c04-c054-8459a8f0b0b2"
   },
   "outputs": [
    {
     "name": "stdout",
     "output_type": "stream",
     "text": [
      "p_value = 0.0000\n",
      "\n",
      "Conclusion\n",
      "Because p < α, we reject the null hypothesis. There is sufficient evidence to conclude that the difference in trip duration is not equal to 250.00\n"
     ]
    }
   ],
   "source": [
    "deltaX = 250\n",
    "n1 = len(x_sample1)\n",
    "n2 = len(x_sample2)\n",
    "x1_bar = x_sample1.mean()\n",
    "x2_bar = x_sample2.mean()\n",
    "s1=np.std(x_sample1,ddof=1) # sample standard deviation  with numpy (ddof = 1, otherwise defaults to ddof = 0 the population mean)\n",
    "s2=np.std(x_sample2,ddof=1) # sample standard deviation  with numpy (ddof = 1, otherwise defaults to ddof = 0 the population mean)\n",
    "\n",
    "SE = np.sqrt(s1**2 / n1  + s2**2 / n2)\n",
    "t_statistic = (x1_bar - x2_bar - deltaX ) / SE\n",
    "p_value = 2*st.norm.sf(abs(t_statistic))\n",
    "\n",
    "print('p_value = %1.4f' %(p_value))\n",
    "\n",
    "\n",
    "print('\\nConclusion')\n",
    "if ( p_value > alpha ):\n",
    "  print('Because p-value ≥ α, we fail to reject the null hypothesis. There is not sufficient evidence to conclude that the trip duration is different than %1.2f s' %deltaX )\n",
    "else:\n",
    "  print('Because p < α, we reject the null hypothesis. There is sufficient evidence to conclude that the difference in trip duration is not equal to %1.2f' %deltaX)"
   ]
  },
  {
   "cell_type": "code",
   "execution_count": 14,
   "metadata": {
    "colab": {},
    "colab_type": "code",
    "executionInfo": {
     "elapsed": 983,
     "status": "ok",
     "timestamp": 1600445870080,
     "user": {
      "displayName": "Alberto",
      "photoUrl": "https://lh3.googleusercontent.com/a-/AOh14Gjw56Fg8KPH-1SbCJhna3BcswJF9-lAYZ0xw5KiVVY=s64",
      "userId": "09763386927942680033"
     },
     "user_tz": 420
    },
    "id": "jDBDLZSHFDYt"
   },
   "outputs": [],
   "source": []
  }
 ],
 "metadata": {
  "colab": {
   "authorship_tag": "ABX9TyPILXM6oRxFqtkHzEVfrcrm",
   "collapsed_sections": [
    "MDmlzFo4SejE",
    "rhn_aB8Imou2",
    "ogC12wg-XFXr",
    "6RRQMokFqy12",
    "9ZvvOUOLbxw_"
   ],
   "name": "a-Inference Statistics Notebook.ipynb",
   "provenance": []
  },
  "kernelspec": {
   "display_name": "Python 3",
   "language": "python",
   "name": "python3"
  },
  "language_info": {
   "codemirror_mode": {
    "name": "ipython",
    "version": 3
   },
   "file_extension": ".py",
   "mimetype": "text/x-python",
   "name": "python",
   "nbconvert_exporter": "python",
   "pygments_lexer": "ipython3",
   "version": "3.8.3"
  }
 },
 "nbformat": 4,
 "nbformat_minor": 1
}
